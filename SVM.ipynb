{
 "cells": [
  {
   "cell_type": "markdown",
   "id": "89f810bb",
   "metadata": {},
   "source": [
    "# SVM "
   ]
  },
  {
   "cell_type": "code",
   "execution_count": 300,
   "id": "62eae179",
   "metadata": {},
   "outputs": [],
   "source": [
    "import pandas as pd\n",
    "import numpy as np\n",
    "import matplotlib.pyplot as plt\n"
   ]
  },
  {
   "cell_type": "code",
   "execution_count": 301,
   "id": "42175b00",
   "metadata": {},
   "outputs": [],
   "source": [
    "#datapath = \"C:/Users/User/Desktop/Capstone Project/capstonejm1.csv\""
   ]
  },
  {
   "cell_type": "code",
   "execution_count": 302,
   "id": "5314fb78",
   "metadata": {},
   "outputs": [],
   "source": [
    "data = pd.read_csv('C:/Users/User/Pictures/Software-Defect-Prediction/Data/data/ar6.csv')"
   ]
  },
  {
   "cell_type": "code",
   "execution_count": 303,
   "id": "dcacf069",
   "metadata": {},
   "outputs": [
    {
     "data": {
      "text/html": [
       "<div>\n",
       "<style scoped>\n",
       "    .dataframe tbody tr th:only-of-type {\n",
       "        vertical-align: middle;\n",
       "    }\n",
       "\n",
       "    .dataframe tbody tr th {\n",
       "        vertical-align: top;\n",
       "    }\n",
       "\n",
       "    .dataframe thead th {\n",
       "        text-align: right;\n",
       "    }\n",
       "</style>\n",
       "<table border=\"1\" class=\"dataframe\">\n",
       "  <thead>\n",
       "    <tr style=\"text-align: right;\">\n",
       "      <th></th>\n",
       "      <th>id</th>\n",
       "      <th>total_loc</th>\n",
       "      <th>blank_loc</th>\n",
       "      <th>comment_loc</th>\n",
       "      <th>code_and_comment_loc</th>\n",
       "      <th>executable_loc</th>\n",
       "      <th>unique_operands</th>\n",
       "      <th>unique_operators</th>\n",
       "      <th>total_operands</th>\n",
       "      <th>total_operators</th>\n",
       "      <th>...</th>\n",
       "      <th>condition_count</th>\n",
       "      <th>multiple_condition_count</th>\n",
       "      <th>cyclomatic_complexity</th>\n",
       "      <th>cyclomatic_density</th>\n",
       "      <th>decision_density</th>\n",
       "      <th>design_complexity</th>\n",
       "      <th>design_density</th>\n",
       "      <th>normalized_cyclomatic_complexity</th>\n",
       "      <th>formal_parameters</th>\n",
       "      <th>defects</th>\n",
       "    </tr>\n",
       "  </thead>\n",
       "  <tbody>\n",
       "    <tr>\n",
       "      <th>0</th>\n",
       "      <td>1</td>\n",
       "      <td>8</td>\n",
       "      <td>0</td>\n",
       "      <td>4</td>\n",
       "      <td>0</td>\n",
       "      <td>4</td>\n",
       "      <td>8</td>\n",
       "      <td>6</td>\n",
       "      <td>10</td>\n",
       "      <td>12</td>\n",
       "      <td>...</td>\n",
       "      <td>0</td>\n",
       "      <td>0</td>\n",
       "      <td>1</td>\n",
       "      <td>0.25</td>\n",
       "      <td>0.00</td>\n",
       "      <td>0.0</td>\n",
       "      <td>0.00</td>\n",
       "      <td>0.13</td>\n",
       "      <td>0.0</td>\n",
       "      <td>False</td>\n",
       "    </tr>\n",
       "    <tr>\n",
       "      <th>1</th>\n",
       "      <td>2</td>\n",
       "      <td>13</td>\n",
       "      <td>0</td>\n",
       "      <td>1</td>\n",
       "      <td>0</td>\n",
       "      <td>12</td>\n",
       "      <td>10</td>\n",
       "      <td>8</td>\n",
       "      <td>21</td>\n",
       "      <td>26</td>\n",
       "      <td>...</td>\n",
       "      <td>0</td>\n",
       "      <td>0</td>\n",
       "      <td>2</td>\n",
       "      <td>0.17</td>\n",
       "      <td>0.00</td>\n",
       "      <td>0.0</td>\n",
       "      <td>0.00</td>\n",
       "      <td>0.15</td>\n",
       "      <td>0.0</td>\n",
       "      <td>False</td>\n",
       "    </tr>\n",
       "    <tr>\n",
       "      <th>2</th>\n",
       "      <td>3</td>\n",
       "      <td>20</td>\n",
       "      <td>0</td>\n",
       "      <td>12</td>\n",
       "      <td>0</td>\n",
       "      <td>8</td>\n",
       "      <td>14</td>\n",
       "      <td>12</td>\n",
       "      <td>21</td>\n",
       "      <td>34</td>\n",
       "      <td>...</td>\n",
       "      <td>3</td>\n",
       "      <td>0</td>\n",
       "      <td>4</td>\n",
       "      <td>0.50</td>\n",
       "      <td>1.00</td>\n",
       "      <td>0.0</td>\n",
       "      <td>0.00</td>\n",
       "      <td>0.20</td>\n",
       "      <td>0.0</td>\n",
       "      <td>False</td>\n",
       "    </tr>\n",
       "    <tr>\n",
       "      <th>3</th>\n",
       "      <td>4</td>\n",
       "      <td>40</td>\n",
       "      <td>0</td>\n",
       "      <td>17</td>\n",
       "      <td>0</td>\n",
       "      <td>23</td>\n",
       "      <td>20</td>\n",
       "      <td>18</td>\n",
       "      <td>64</td>\n",
       "      <td>90</td>\n",
       "      <td>...</td>\n",
       "      <td>11</td>\n",
       "      <td>2</td>\n",
       "      <td>11</td>\n",
       "      <td>0.48</td>\n",
       "      <td>1.09</td>\n",
       "      <td>1.0</td>\n",
       "      <td>0.09</td>\n",
       "      <td>0.28</td>\n",
       "      <td>0.0</td>\n",
       "      <td>False</td>\n",
       "    </tr>\n",
       "    <tr>\n",
       "      <th>4</th>\n",
       "      <td>5</td>\n",
       "      <td>8</td>\n",
       "      <td>0</td>\n",
       "      <td>3</td>\n",
       "      <td>0</td>\n",
       "      <td>5</td>\n",
       "      <td>7</td>\n",
       "      <td>13</td>\n",
       "      <td>13</td>\n",
       "      <td>21</td>\n",
       "      <td>...</td>\n",
       "      <td>1</td>\n",
       "      <td>0</td>\n",
       "      <td>3</td>\n",
       "      <td>0.60</td>\n",
       "      <td>2.00</td>\n",
       "      <td>0.0</td>\n",
       "      <td>0.00</td>\n",
       "      <td>0.38</td>\n",
       "      <td>1.0</td>\n",
       "      <td>False</td>\n",
       "    </tr>\n",
       "  </tbody>\n",
       "</table>\n",
       "<p>5 rows × 31 columns</p>\n",
       "</div>"
      ],
      "text/plain": [
       "   id  total_loc  blank_loc  comment_loc  code_and_comment_loc  \\\n",
       "0   1          8          0            4                     0   \n",
       "1   2         13          0            1                     0   \n",
       "2   3         20          0           12                     0   \n",
       "3   4         40          0           17                     0   \n",
       "4   5          8          0            3                     0   \n",
       "\n",
       "   executable_loc  unique_operands  unique_operators  total_operands  \\\n",
       "0               4                8                 6              10   \n",
       "1              12               10                 8              21   \n",
       "2               8               14                12              21   \n",
       "3              23               20                18              64   \n",
       "4               5                7                13              13   \n",
       "\n",
       "   total_operators  ...  condition_count  multiple_condition_count  \\\n",
       "0               12  ...                0                         0   \n",
       "1               26  ...                0                         0   \n",
       "2               34  ...                3                         0   \n",
       "3               90  ...               11                         2   \n",
       "4               21  ...                1                         0   \n",
       "\n",
       "   cyclomatic_complexity  cyclomatic_density  decision_density  \\\n",
       "0                      1                0.25              0.00   \n",
       "1                      2                0.17              0.00   \n",
       "2                      4                0.50              1.00   \n",
       "3                     11                0.48              1.09   \n",
       "4                      3                0.60              2.00   \n",
       "\n",
       "   design_complexity  design_density  normalized_cyclomatic_complexity  \\\n",
       "0                0.0            0.00                              0.13   \n",
       "1                0.0            0.00                              0.15   \n",
       "2                0.0            0.00                              0.20   \n",
       "3                1.0            0.09                              0.28   \n",
       "4                0.0            0.00                              0.38   \n",
       "\n",
       "   formal_parameters  defects  \n",
       "0                0.0    False  \n",
       "1                0.0    False  \n",
       "2                0.0    False  \n",
       "3                0.0    False  \n",
       "4                1.0    False  \n",
       "\n",
       "[5 rows x 31 columns]"
      ]
     },
     "execution_count": 303,
     "metadata": {},
     "output_type": "execute_result"
    }
   ],
   "source": [
    "data.head()"
   ]
  },
  {
   "cell_type": "code",
   "execution_count": 304,
   "id": "74a0a7df",
   "metadata": {},
   "outputs": [
    {
     "data": {
      "text/plain": [
       "Index(['id', 'total_loc', 'blank_loc', 'comment_loc', 'code_and_comment_loc',\n",
       "       'executable_loc', 'unique_operands', 'unique_operators',\n",
       "       'total_operands', 'total_operators', 'halstead_vocabulary',\n",
       "       'halstead_length', 'halstead_volume', 'halstead_level',\n",
       "       'halstead_difficulty', 'halstead_effort', 'halstead_error',\n",
       "       'halstead_time', 'branch_count', 'decision_count', 'call_pairs',\n",
       "       'condition_count', 'multiple_condition_count', 'cyclomatic_complexity',\n",
       "       'cyclomatic_density', 'decision_density', 'design_complexity',\n",
       "       'design_density', 'normalized_cyclomatic_complexity',\n",
       "       'formal_parameters', 'defects'],\n",
       "      dtype='object')"
      ]
     },
     "execution_count": 304,
     "metadata": {},
     "output_type": "execute_result"
    }
   ],
   "source": [
    "#Understanding data\n",
    "data.columns"
   ]
  },
  {
   "cell_type": "code",
   "execution_count": 305,
   "id": "b3e153c2",
   "metadata": {},
   "outputs": [
    {
     "data": {
      "text/plain": [
       "id                                    int64\n",
       "total_loc                             int64\n",
       "blank_loc                             int64\n",
       "comment_loc                           int64\n",
       "code_and_comment_loc                  int64\n",
       "executable_loc                        int64\n",
       "unique_operands                       int64\n",
       "unique_operators                      int64\n",
       "total_operands                        int64\n",
       "total_operators                       int64\n",
       "halstead_vocabulary                   int64\n",
       "halstead_length                       int64\n",
       "halstead_volume                       int64\n",
       "halstead_level                      float64\n",
       "halstead_difficulty                 float64\n",
       "halstead_effort                     float64\n",
       "halstead_error                      float64\n",
       "halstead_time                       float64\n",
       "branch_count                        float64\n",
       "decision_count                        int64\n",
       "call_pairs                            int64\n",
       "condition_count                       int64\n",
       "multiple_condition_count              int64\n",
       "cyclomatic_complexity                 int64\n",
       "cyclomatic_density                  float64\n",
       "decision_density                    float64\n",
       "design_complexity                   float64\n",
       "design_density                      float64\n",
       "normalized_cyclomatic_complexity    float64\n",
       "formal_parameters                   float64\n",
       "defects                                bool\n",
       "dtype: object"
      ]
     },
     "execution_count": 305,
     "metadata": {},
     "output_type": "execute_result"
    }
   ],
   "source": [
    "data.dtypes"
   ]
  },
  {
   "cell_type": "code",
   "execution_count": 306,
   "id": "10c73f53",
   "metadata": {},
   "outputs": [
    {
     "data": {
      "text/plain": [
       "(101, 31)"
      ]
     },
     "execution_count": 306,
     "metadata": {},
     "output_type": "execute_result"
    }
   ],
   "source": [
    "data.shape"
   ]
  },
  {
   "cell_type": "code",
   "execution_count": 307,
   "id": "84f783cb",
   "metadata": {},
   "outputs": [
    {
     "data": {
      "text/plain": [
       "id                                  0\n",
       "total_loc                           0\n",
       "blank_loc                           0\n",
       "comment_loc                         0\n",
       "code_and_comment_loc                0\n",
       "executable_loc                      0\n",
       "unique_operands                     0\n",
       "unique_operators                    0\n",
       "total_operands                      0\n",
       "total_operators                     0\n",
       "halstead_vocabulary                 0\n",
       "halstead_length                     0\n",
       "halstead_volume                     0\n",
       "halstead_level                      0\n",
       "halstead_difficulty                 0\n",
       "halstead_effort                     0\n",
       "halstead_error                      0\n",
       "halstead_time                       0\n",
       "branch_count                        0\n",
       "decision_count                      0\n",
       "call_pairs                          0\n",
       "condition_count                     0\n",
       "multiple_condition_count            0\n",
       "cyclomatic_complexity               0\n",
       "cyclomatic_density                  0\n",
       "decision_density                    0\n",
       "design_complexity                   0\n",
       "design_density                      0\n",
       "normalized_cyclomatic_complexity    0\n",
       "formal_parameters                   0\n",
       "defects                             0\n",
       "dtype: int64"
      ]
     },
     "execution_count": 307,
     "metadata": {},
     "output_type": "execute_result"
    }
   ],
   "source": [
    "#Missing value imputation\n",
    "data.isnull().sum()"
   ]
  },
  {
   "cell_type": "code",
   "execution_count": 308,
   "id": "a9d8e1b9",
   "metadata": {},
   "outputs": [],
   "source": [
    "from sklearn.model_selection import train_test_split"
   ]
  },
  {
   "cell_type": "code",
   "execution_count": 309,
   "id": "b385ee70",
   "metadata": {},
   "outputs": [],
   "source": [
    "X =data.drop([\"defects\"],axis=1)"
   ]
  },
  {
   "cell_type": "code",
   "execution_count": 310,
   "id": "f7f5b558",
   "metadata": {},
   "outputs": [
    {
     "data": {
      "text/html": [
       "<div>\n",
       "<style scoped>\n",
       "    .dataframe tbody tr th:only-of-type {\n",
       "        vertical-align: middle;\n",
       "    }\n",
       "\n",
       "    .dataframe tbody tr th {\n",
       "        vertical-align: top;\n",
       "    }\n",
       "\n",
       "    .dataframe thead th {\n",
       "        text-align: right;\n",
       "    }\n",
       "</style>\n",
       "<table border=\"1\" class=\"dataframe\">\n",
       "  <thead>\n",
       "    <tr style=\"text-align: right;\">\n",
       "      <th></th>\n",
       "      <th>id</th>\n",
       "      <th>total_loc</th>\n",
       "      <th>blank_loc</th>\n",
       "      <th>comment_loc</th>\n",
       "      <th>code_and_comment_loc</th>\n",
       "      <th>executable_loc</th>\n",
       "      <th>unique_operands</th>\n",
       "      <th>unique_operators</th>\n",
       "      <th>total_operands</th>\n",
       "      <th>total_operators</th>\n",
       "      <th>...</th>\n",
       "      <th>call_pairs</th>\n",
       "      <th>condition_count</th>\n",
       "      <th>multiple_condition_count</th>\n",
       "      <th>cyclomatic_complexity</th>\n",
       "      <th>cyclomatic_density</th>\n",
       "      <th>decision_density</th>\n",
       "      <th>design_complexity</th>\n",
       "      <th>design_density</th>\n",
       "      <th>normalized_cyclomatic_complexity</th>\n",
       "      <th>formal_parameters</th>\n",
       "    </tr>\n",
       "  </thead>\n",
       "  <tbody>\n",
       "    <tr>\n",
       "      <th>0</th>\n",
       "      <td>1</td>\n",
       "      <td>8</td>\n",
       "      <td>0</td>\n",
       "      <td>4</td>\n",
       "      <td>0</td>\n",
       "      <td>4</td>\n",
       "      <td>8</td>\n",
       "      <td>6</td>\n",
       "      <td>10</td>\n",
       "      <td>12</td>\n",
       "      <td>...</td>\n",
       "      <td>0</td>\n",
       "      <td>0</td>\n",
       "      <td>0</td>\n",
       "      <td>1</td>\n",
       "      <td>0.25</td>\n",
       "      <td>0.00</td>\n",
       "      <td>0.0</td>\n",
       "      <td>0.00</td>\n",
       "      <td>0.13</td>\n",
       "      <td>0.0</td>\n",
       "    </tr>\n",
       "    <tr>\n",
       "      <th>1</th>\n",
       "      <td>2</td>\n",
       "      <td>13</td>\n",
       "      <td>0</td>\n",
       "      <td>1</td>\n",
       "      <td>0</td>\n",
       "      <td>12</td>\n",
       "      <td>10</td>\n",
       "      <td>8</td>\n",
       "      <td>21</td>\n",
       "      <td>26</td>\n",
       "      <td>...</td>\n",
       "      <td>0</td>\n",
       "      <td>0</td>\n",
       "      <td>0</td>\n",
       "      <td>2</td>\n",
       "      <td>0.17</td>\n",
       "      <td>0.00</td>\n",
       "      <td>0.0</td>\n",
       "      <td>0.00</td>\n",
       "      <td>0.15</td>\n",
       "      <td>0.0</td>\n",
       "    </tr>\n",
       "    <tr>\n",
       "      <th>2</th>\n",
       "      <td>3</td>\n",
       "      <td>20</td>\n",
       "      <td>0</td>\n",
       "      <td>12</td>\n",
       "      <td>0</td>\n",
       "      <td>8</td>\n",
       "      <td>14</td>\n",
       "      <td>12</td>\n",
       "      <td>21</td>\n",
       "      <td>34</td>\n",
       "      <td>...</td>\n",
       "      <td>0</td>\n",
       "      <td>3</td>\n",
       "      <td>0</td>\n",
       "      <td>4</td>\n",
       "      <td>0.50</td>\n",
       "      <td>1.00</td>\n",
       "      <td>0.0</td>\n",
       "      <td>0.00</td>\n",
       "      <td>0.20</td>\n",
       "      <td>0.0</td>\n",
       "    </tr>\n",
       "    <tr>\n",
       "      <th>3</th>\n",
       "      <td>4</td>\n",
       "      <td>40</td>\n",
       "      <td>0</td>\n",
       "      <td>17</td>\n",
       "      <td>0</td>\n",
       "      <td>23</td>\n",
       "      <td>20</td>\n",
       "      <td>18</td>\n",
       "      <td>64</td>\n",
       "      <td>90</td>\n",
       "      <td>...</td>\n",
       "      <td>1</td>\n",
       "      <td>11</td>\n",
       "      <td>2</td>\n",
       "      <td>11</td>\n",
       "      <td>0.48</td>\n",
       "      <td>1.09</td>\n",
       "      <td>1.0</td>\n",
       "      <td>0.09</td>\n",
       "      <td>0.28</td>\n",
       "      <td>0.0</td>\n",
       "    </tr>\n",
       "    <tr>\n",
       "      <th>4</th>\n",
       "      <td>5</td>\n",
       "      <td>8</td>\n",
       "      <td>0</td>\n",
       "      <td>3</td>\n",
       "      <td>0</td>\n",
       "      <td>5</td>\n",
       "      <td>7</td>\n",
       "      <td>13</td>\n",
       "      <td>13</td>\n",
       "      <td>21</td>\n",
       "      <td>...</td>\n",
       "      <td>0</td>\n",
       "      <td>1</td>\n",
       "      <td>0</td>\n",
       "      <td>3</td>\n",
       "      <td>0.60</td>\n",
       "      <td>2.00</td>\n",
       "      <td>0.0</td>\n",
       "      <td>0.00</td>\n",
       "      <td>0.38</td>\n",
       "      <td>1.0</td>\n",
       "    </tr>\n",
       "  </tbody>\n",
       "</table>\n",
       "<p>5 rows × 30 columns</p>\n",
       "</div>"
      ],
      "text/plain": [
       "   id  total_loc  blank_loc  comment_loc  code_and_comment_loc  \\\n",
       "0   1          8          0            4                     0   \n",
       "1   2         13          0            1                     0   \n",
       "2   3         20          0           12                     0   \n",
       "3   4         40          0           17                     0   \n",
       "4   5          8          0            3                     0   \n",
       "\n",
       "   executable_loc  unique_operands  unique_operators  total_operands  \\\n",
       "0               4                8                 6              10   \n",
       "1              12               10                 8              21   \n",
       "2               8               14                12              21   \n",
       "3              23               20                18              64   \n",
       "4               5                7                13              13   \n",
       "\n",
       "   total_operators  ...  call_pairs  condition_count  \\\n",
       "0               12  ...           0                0   \n",
       "1               26  ...           0                0   \n",
       "2               34  ...           0                3   \n",
       "3               90  ...           1               11   \n",
       "4               21  ...           0                1   \n",
       "\n",
       "   multiple_condition_count  cyclomatic_complexity  cyclomatic_density  \\\n",
       "0                         0                      1                0.25   \n",
       "1                         0                      2                0.17   \n",
       "2                         0                      4                0.50   \n",
       "3                         2                     11                0.48   \n",
       "4                         0                      3                0.60   \n",
       "\n",
       "   decision_density  design_complexity  design_density  \\\n",
       "0              0.00                0.0            0.00   \n",
       "1              0.00                0.0            0.00   \n",
       "2              1.00                0.0            0.00   \n",
       "3              1.09                1.0            0.09   \n",
       "4              2.00                0.0            0.00   \n",
       "\n",
       "   normalized_cyclomatic_complexity  formal_parameters  \n",
       "0                              0.13                0.0  \n",
       "1                              0.15                0.0  \n",
       "2                              0.20                0.0  \n",
       "3                              0.28                0.0  \n",
       "4                              0.38                1.0  \n",
       "\n",
       "[5 rows x 30 columns]"
      ]
     },
     "execution_count": 310,
     "metadata": {},
     "output_type": "execute_result"
    }
   ],
   "source": [
    "X.head()"
   ]
  },
  {
   "cell_type": "code",
   "execution_count": 311,
   "id": "c66dea36",
   "metadata": {},
   "outputs": [
    {
     "data": {
      "text/html": [
       "<div>\n",
       "<style scoped>\n",
       "    .dataframe tbody tr th:only-of-type {\n",
       "        vertical-align: middle;\n",
       "    }\n",
       "\n",
       "    .dataframe tbody tr th {\n",
       "        vertical-align: top;\n",
       "    }\n",
       "\n",
       "    .dataframe thead th {\n",
       "        text-align: right;\n",
       "    }\n",
       "</style>\n",
       "<table border=\"1\" class=\"dataframe\">\n",
       "  <thead>\n",
       "    <tr style=\"text-align: right;\">\n",
       "      <th></th>\n",
       "      <th>defects</th>\n",
       "    </tr>\n",
       "  </thead>\n",
       "  <tbody>\n",
       "    <tr>\n",
       "      <th>0</th>\n",
       "      <td>False</td>\n",
       "    </tr>\n",
       "    <tr>\n",
       "      <th>1</th>\n",
       "      <td>False</td>\n",
       "    </tr>\n",
       "    <tr>\n",
       "      <th>2</th>\n",
       "      <td>False</td>\n",
       "    </tr>\n",
       "    <tr>\n",
       "      <th>3</th>\n",
       "      <td>False</td>\n",
       "    </tr>\n",
       "    <tr>\n",
       "      <th>4</th>\n",
       "      <td>False</td>\n",
       "    </tr>\n",
       "  </tbody>\n",
       "</table>\n",
       "</div>"
      ],
      "text/plain": [
       "   defects\n",
       "0    False\n",
       "1    False\n",
       "2    False\n",
       "3    False\n",
       "4    False"
      ]
     },
     "execution_count": 311,
     "metadata": {},
     "output_type": "execute_result"
    }
   ],
   "source": [
    "y = data[[\"defects\"]]\n",
    "y.head()"
   ]
  },
  {
   "cell_type": "code",
   "execution_count": 312,
   "id": "e1889aad",
   "metadata": {},
   "outputs": [],
   "source": [
    "x_train,x_test,y_train,y_test=train_test_split(X,y,test_size=0.3,random_state=1)"
   ]
  },
  {
   "cell_type": "code",
   "execution_count": 313,
   "id": "165f4b8b",
   "metadata": {},
   "outputs": [],
   "source": [
    "#Applying SVM Classifier\n",
    "from sklearn.svm import SVC\n",
    "from sklearn.metrics import accuracy_score\n",
    "from scipy import stats"
   ]
  },
  {
   "cell_type": "code",
   "execution_count": 314,
   "id": "5c47661d",
   "metadata": {},
   "outputs": [],
   "source": [
    "svc_model = SVC()"
   ]
  },
  {
   "cell_type": "code",
   "execution_count": 315,
   "id": "10cd3734",
   "metadata": {},
   "outputs": [
    {
     "name": "stderr",
     "output_type": "stream",
     "text": [
      "C:\\Users\\User\\anaconda3\\lib\\site-packages\\sklearn\\utils\\validation.py:1143: DataConversionWarning: A column-vector y was passed when a 1d array was expected. Please change the shape of y to (n_samples, ), for example using ravel().\n",
      "  y = column_or_1d(y, warn=True)\n"
     ]
    },
    {
     "data": {
      "text/html": [
       "<style>#sk-container-id-16 {color: black;background-color: white;}#sk-container-id-16 pre{padding: 0;}#sk-container-id-16 div.sk-toggleable {background-color: white;}#sk-container-id-16 label.sk-toggleable__label {cursor: pointer;display: block;width: 100%;margin-bottom: 0;padding: 0.3em;box-sizing: border-box;text-align: center;}#sk-container-id-16 label.sk-toggleable__label-arrow:before {content: \"▸\";float: left;margin-right: 0.25em;color: #696969;}#sk-container-id-16 label.sk-toggleable__label-arrow:hover:before {color: black;}#sk-container-id-16 div.sk-estimator:hover label.sk-toggleable__label-arrow:before {color: black;}#sk-container-id-16 div.sk-toggleable__content {max-height: 0;max-width: 0;overflow: hidden;text-align: left;background-color: #f0f8ff;}#sk-container-id-16 div.sk-toggleable__content pre {margin: 0.2em;color: black;border-radius: 0.25em;background-color: #f0f8ff;}#sk-container-id-16 input.sk-toggleable__control:checked~div.sk-toggleable__content {max-height: 200px;max-width: 100%;overflow: auto;}#sk-container-id-16 input.sk-toggleable__control:checked~label.sk-toggleable__label-arrow:before {content: \"▾\";}#sk-container-id-16 div.sk-estimator input.sk-toggleable__control:checked~label.sk-toggleable__label {background-color: #d4ebff;}#sk-container-id-16 div.sk-label input.sk-toggleable__control:checked~label.sk-toggleable__label {background-color: #d4ebff;}#sk-container-id-16 input.sk-hidden--visually {border: 0;clip: rect(1px 1px 1px 1px);clip: rect(1px, 1px, 1px, 1px);height: 1px;margin: -1px;overflow: hidden;padding: 0;position: absolute;width: 1px;}#sk-container-id-16 div.sk-estimator {font-family: monospace;background-color: #f0f8ff;border: 1px dotted black;border-radius: 0.25em;box-sizing: border-box;margin-bottom: 0.5em;}#sk-container-id-16 div.sk-estimator:hover {background-color: #d4ebff;}#sk-container-id-16 div.sk-parallel-item::after {content: \"\";width: 100%;border-bottom: 1px solid gray;flex-grow: 1;}#sk-container-id-16 div.sk-label:hover label.sk-toggleable__label {background-color: #d4ebff;}#sk-container-id-16 div.sk-serial::before {content: \"\";position: absolute;border-left: 1px solid gray;box-sizing: border-box;top: 0;bottom: 0;left: 50%;z-index: 0;}#sk-container-id-16 div.sk-serial {display: flex;flex-direction: column;align-items: center;background-color: white;padding-right: 0.2em;padding-left: 0.2em;position: relative;}#sk-container-id-16 div.sk-item {position: relative;z-index: 1;}#sk-container-id-16 div.sk-parallel {display: flex;align-items: stretch;justify-content: center;background-color: white;position: relative;}#sk-container-id-16 div.sk-item::before, #sk-container-id-16 div.sk-parallel-item::before {content: \"\";position: absolute;border-left: 1px solid gray;box-sizing: border-box;top: 0;bottom: 0;left: 50%;z-index: -1;}#sk-container-id-16 div.sk-parallel-item {display: flex;flex-direction: column;z-index: 1;position: relative;background-color: white;}#sk-container-id-16 div.sk-parallel-item:first-child::after {align-self: flex-end;width: 50%;}#sk-container-id-16 div.sk-parallel-item:last-child::after {align-self: flex-start;width: 50%;}#sk-container-id-16 div.sk-parallel-item:only-child::after {width: 0;}#sk-container-id-16 div.sk-dashed-wrapped {border: 1px dashed gray;margin: 0 0.4em 0.5em 0.4em;box-sizing: border-box;padding-bottom: 0.4em;background-color: white;}#sk-container-id-16 div.sk-label label {font-family: monospace;font-weight: bold;display: inline-block;line-height: 1.2em;}#sk-container-id-16 div.sk-label-container {text-align: center;}#sk-container-id-16 div.sk-container {/* jupyter's `normalize.less` sets `[hidden] { display: none; }` but bootstrap.min.css set `[hidden] { display: none !important; }` so we also need the `!important` here to be able to override the default hidden behavior on the sphinx rendered scikit-learn.org. See: https://github.com/scikit-learn/scikit-learn/issues/21755 */display: inline-block !important;position: relative;}#sk-container-id-16 div.sk-text-repr-fallback {display: none;}</style><div id=\"sk-container-id-16\" class=\"sk-top-container\"><div class=\"sk-text-repr-fallback\"><pre>SVC()</pre><b>In a Jupyter environment, please rerun this cell to show the HTML representation or trust the notebook. <br />On GitHub, the HTML representation is unable to render, please try loading this page with nbviewer.org.</b></div><div class=\"sk-container\" hidden><div class=\"sk-item\"><div class=\"sk-estimator sk-toggleable\"><input class=\"sk-toggleable__control sk-hidden--visually\" id=\"sk-estimator-id-16\" type=\"checkbox\" checked><label for=\"sk-estimator-id-16\" class=\"sk-toggleable__label sk-toggleable__label-arrow\">SVC</label><div class=\"sk-toggleable__content\"><pre>SVC()</pre></div></div></div></div></div>"
      ],
      "text/plain": [
       "SVC()"
      ]
     },
     "execution_count": 315,
     "metadata": {},
     "output_type": "execute_result"
    }
   ],
   "source": [
    "svc_model.fit(x_train,y_train)\n"
   ]
  },
  {
   "cell_type": "code",
   "execution_count": 316,
   "id": "063ba4b2",
   "metadata": {},
   "outputs": [],
   "source": [
    "svc_pred = svc_model.predict(x_test)"
   ]
  },
  {
   "cell_type": "code",
   "execution_count": 317,
   "id": "4457ed73",
   "metadata": {},
   "outputs": [],
   "source": [
    "svc_score = accuracy_score(svc_pred,y_test)*100"
   ]
  },
  {
   "cell_type": "code",
   "execution_count": 318,
   "id": "188ec521",
   "metadata": {},
   "outputs": [
    {
     "data": {
      "text/plain": [
       "83.87096774193549"
      ]
     },
     "execution_count": 318,
     "metadata": {},
     "output_type": "execute_result"
    }
   ],
   "source": [
    "svc_score"
   ]
  },
  {
   "cell_type": "code",
   "execution_count": null,
   "id": "69f67201",
   "metadata": {},
   "outputs": [],
   "source": []
  }
 ],
 "metadata": {
  "kernelspec": {
   "display_name": "Python 3",
   "language": "python",
   "name": "python3"
  },
  "language_info": {
   "codemirror_mode": {
    "name": "ipython",
    "version": 3
   },
   "file_extension": ".py",
   "mimetype": "text/x-python",
   "name": "python",
   "nbconvert_exporter": "python",
   "pygments_lexer": "ipython3",
   "version": "3.8.8"
  }
 },
 "nbformat": 4,
 "nbformat_minor": 5
}
