{
 "cells": [
  {
   "cell_type": "code",
   "execution_count": 4,
   "id": "9e9e7516",
   "metadata": {},
   "outputs": [
    {
     "name": "stdout",
     "output_type": "stream",
     "text": [
      "[0, 12, 4, 18, 19, 5, 10, 17, 20, 1]\n"
     ]
    }
   ],
   "source": [
    "import pandas as pd\n",
    "import numpy as np\n",
    "from sklearn.feature_selection import SelectKBest\n",
    "from sklearn.feature_selection import chi2\n",
    "\n",
    "# Load the data\n",
    "data = pd.read_csv('C:/Users/User/Pictures/Software-Defect-Prediction/Data/data/kc1.csv')\n",
    "\n",
    "# Separate the features (X) and the target (y)\n",
    "X = data.iloc[:, :-1]\n",
    "y = data.iloc[:, -1]\n",
    "\n",
    "# Apply CFS feature selection\n",
    "def cfs(X, y):\n",
    "    c = X.corr()\n",
    "    c_abs = np.abs(c)\n",
    "    p = c.shape[1]\n",
    "    selected = []\n",
    "    while len(selected) < p:\n",
    "        max_score = -float('inf')\n",
    "        best_feature = None\n",
    "        for i in range(p):\n",
    "            if i in selected:\n",
    "                continue\n",
    "            f_subset = selected + [i]\n",
    "            f = X.iloc[:, f_subset]\n",
    "            score = (len(y) - 1) * (c_abs.iloc[f_subset, f_subset].sum().sum()) / (len(y) - f.shape[1] - 1)\n",
    "            if score > max_score:\n",
    "                max_score = score\n",
    "                best_feature = i\n",
    "        selected.append(best_feature)\n",
    "    return selected\n",
    "\n",
    "selected_features = cfs(X, y)\n",
    "X_new = X.iloc[:, selected_features]\n",
    "\n",
    "# Apply SelectKBest to keep the top K features based on chi-squared test\n",
    "K = 10 # number of top features to keep\n",
    "selector = SelectKBest(score_func=chi2, k=K)\n",
    "X_new = selector.fit_transform(X_new, y)\n",
    "\n",
    "# Print the selected feature indices\n",
    "print(selected_features[:K])\n"
   ]
  },
  {
   "cell_type": "code",
   "execution_count": null,
   "id": "118673c9",
   "metadata": {},
   "outputs": [],
   "source": []
  }
 ],
 "metadata": {
  "kernelspec": {
   "display_name": "Python 3",
   "language": "python",
   "name": "python3"
  },
  "language_info": {
   "codemirror_mode": {
    "name": "ipython",
    "version": 3
   },
   "file_extension": ".py",
   "mimetype": "text/x-python",
   "name": "python",
   "nbconvert_exporter": "python",
   "pygments_lexer": "ipython3",
   "version": "3.8.8"
  }
 },
 "nbformat": 4,
 "nbformat_minor": 5
}
